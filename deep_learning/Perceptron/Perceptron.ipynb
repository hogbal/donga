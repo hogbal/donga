{
 "cells": [
  {
   "cell_type": "code",
   "execution_count": null,
   "metadata": {},
   "outputs": [],
   "source": [
    "!pip3 install pandas scikit-learn"
   ]
  },
  {
   "cell_type": "markdown",
   "metadata": {},
   "source": [
    "# import"
   ]
  },
  {
   "cell_type": "code",
   "execution_count": 1,
   "metadata": {},
   "outputs": [],
   "source": [
    "import random\n",
    "import pandas as pd\n",
    "import numpy as np\n",
    "import matplotlib.pyplot as plt\n",
    "from tqdm import tqdm\n",
    "from sklearn.metrics import confusion_matrix\n",
    "from sklearn.preprocessing import MinMaxScaler"
   ]
  },
  {
   "cell_type": "markdown",
   "metadata": {},
   "source": [
    "# Load  synthetic datset"
   ]
  },
  {
   "cell_type": "code",
   "execution_count": 2,
   "metadata": {},
   "outputs": [],
   "source": [
    "DATAPATH = \"./data\""
   ]
  },
  {
   "cell_type": "code",
   "execution_count": 3,
   "metadata": {},
   "outputs": [],
   "source": [
    "synthetic_train_path = f\"{DATAPATH}/synthetic_data_train.txt\"\n",
    "synthetic_test_path = f\"{DATAPATH}/synthetic_data_test.txt\""
   ]
  },
  {
   "cell_type": "code",
   "execution_count": 4,
   "metadata": {},
   "outputs": [],
   "source": [
    "synthetic_train_df = pd.read_csv(synthetic_train_path, names=['x','y','z','class'])\n",
    "synthetic_test_df = pd.read_csv(synthetic_test_path, names=['x','y','z','class'])"
   ]
  },
  {
   "cell_type": "code",
   "execution_count": 5,
   "metadata": {},
   "outputs": [
    {
     "data": {
      "text/html": [
       "<div>\n",
       "<style scoped>\n",
       "    .dataframe tbody tr th:only-of-type {\n",
       "        vertical-align: middle;\n",
       "    }\n",
       "\n",
       "    .dataframe tbody tr th {\n",
       "        vertical-align: top;\n",
       "    }\n",
       "\n",
       "    .dataframe thead th {\n",
       "        text-align: right;\n",
       "    }\n",
       "</style>\n",
       "<table border=\"1\" class=\"dataframe\">\n",
       "  <thead>\n",
       "    <tr style=\"text-align: right;\">\n",
       "      <th></th>\n",
       "      <th>x</th>\n",
       "      <th>y</th>\n",
       "      <th>z</th>\n",
       "      <th>class</th>\n",
       "    </tr>\n",
       "  </thead>\n",
       "  <tbody>\n",
       "    <tr>\n",
       "      <th>0</th>\n",
       "      <td>0.117</td>\n",
       "      <td>-7.821</td>\n",
       "      <td>1.979</td>\n",
       "      <td>0</td>\n",
       "    </tr>\n",
       "    <tr>\n",
       "      <th>1</th>\n",
       "      <td>-2.081</td>\n",
       "      <td>-5.047</td>\n",
       "      <td>3.479</td>\n",
       "      <td>1</td>\n",
       "    </tr>\n",
       "    <tr>\n",
       "      <th>2</th>\n",
       "      <td>-9.497</td>\n",
       "      <td>9.203</td>\n",
       "      <td>3.679</td>\n",
       "      <td>1</td>\n",
       "    </tr>\n",
       "    <tr>\n",
       "      <th>3</th>\n",
       "      <td>-2.541</td>\n",
       "      <td>2.651</td>\n",
       "      <td>3.534</td>\n",
       "      <td>1</td>\n",
       "    </tr>\n",
       "    <tr>\n",
       "      <th>4</th>\n",
       "      <td>-18.408</td>\n",
       "      <td>-5.665</td>\n",
       "      <td>3.337</td>\n",
       "      <td>1</td>\n",
       "    </tr>\n",
       "    <tr>\n",
       "      <th>...</th>\n",
       "      <td>...</td>\n",
       "      <td>...</td>\n",
       "      <td>...</td>\n",
       "      <td>...</td>\n",
       "    </tr>\n",
       "    <tr>\n",
       "      <th>1995</th>\n",
       "      <td>-1.163</td>\n",
       "      <td>5.595</td>\n",
       "      <td>3.279</td>\n",
       "      <td>1</td>\n",
       "    </tr>\n",
       "    <tr>\n",
       "      <th>1996</th>\n",
       "      <td>0.789</td>\n",
       "      <td>-7.555</td>\n",
       "      <td>3.467</td>\n",
       "      <td>1</td>\n",
       "    </tr>\n",
       "    <tr>\n",
       "      <th>1997</th>\n",
       "      <td>-2.772</td>\n",
       "      <td>-6.834</td>\n",
       "      <td>2.222</td>\n",
       "      <td>0</td>\n",
       "    </tr>\n",
       "    <tr>\n",
       "      <th>1998</th>\n",
       "      <td>0.465</td>\n",
       "      <td>-9.213</td>\n",
       "      <td>2.405</td>\n",
       "      <td>0</td>\n",
       "    </tr>\n",
       "    <tr>\n",
       "      <th>1999</th>\n",
       "      <td>2.433</td>\n",
       "      <td>-4.356</td>\n",
       "      <td>3.569</td>\n",
       "      <td>1</td>\n",
       "    </tr>\n",
       "  </tbody>\n",
       "</table>\n",
       "<p>2000 rows × 4 columns</p>\n",
       "</div>"
      ],
      "text/plain": [
       "           x      y      z  class\n",
       "0      0.117 -7.821  1.979      0\n",
       "1     -2.081 -5.047  3.479      1\n",
       "2     -9.497  9.203  3.679      1\n",
       "3     -2.541  2.651  3.534      1\n",
       "4    -18.408 -5.665  3.337      1\n",
       "...      ...    ...    ...    ...\n",
       "1995  -1.163  5.595  3.279      1\n",
       "1996   0.789 -7.555  3.467      1\n",
       "1997  -2.772 -6.834  2.222      0\n",
       "1998   0.465 -9.213  2.405      0\n",
       "1999   2.433 -4.356  3.569      1\n",
       "\n",
       "[2000 rows x 4 columns]"
      ]
     },
     "execution_count": 5,
     "metadata": {},
     "output_type": "execute_result"
    }
   ],
   "source": [
    "synthetic_train_df"
   ]
  },
  {
   "cell_type": "code",
   "execution_count": 6,
   "metadata": {},
   "outputs": [
    {
     "name": "stdout",
     "output_type": "stream",
     "text": [
      "synthetic_train_x :  (2000, 3)\n",
      "synthetic_train_y :  (2000,)\n",
      "synthetic_test_x :  (400, 3)\n",
      "synthetic_test_y :  (400,)\n"
     ]
    }
   ],
   "source": [
    "synthetic_train_x = synthetic_train_df[['x','y','z']].values\n",
    "synthetic_train_y = synthetic_train_df[['class']].values.reshape(-1)\n",
    "synthetic_test_x = synthetic_test_df[['x','y','z']].values\n",
    "synthetic_test_y = synthetic_test_df[['class']].values.reshape(-1)\n",
    "\n",
    "print('synthetic_train_x : ', synthetic_train_x.shape)\n",
    "print('synthetic_train_y : ', synthetic_train_y.shape)\n",
    "print('synthetic_test_x : ', synthetic_test_x.shape)\n",
    "print('synthetic_test_y : ', synthetic_test_y.shape)"
   ]
  },
  {
   "cell_type": "code",
   "execution_count": 7,
   "metadata": {},
   "outputs": [],
   "source": [
    "scaler = MinMaxScaler()\n",
    "\n",
    "normalization_synthetic_train_x = scaler.fit_transform(synthetic_train_x)\n",
    "normalization_synthetic_test_x = scaler.fit_transform(synthetic_test_x)"
   ]
  },
  {
   "cell_type": "markdown",
   "metadata": {},
   "source": [
    "# Load  Real datset"
   ]
  },
  {
   "cell_type": "code",
   "execution_count": 8,
   "metadata": {},
   "outputs": [],
   "source": [
    "real_train_path = f\"{DATAPATH}/datatraining.txt\"\n",
    "real_test_path = f\"{DATAPATH}/datatset2.txt\""
   ]
  },
  {
   "cell_type": "code",
   "execution_count": 9,
   "metadata": {},
   "outputs": [],
   "source": [
    "real_train_df = pd.read_csv(real_train_path)\n",
    "real_test_df = pd.read_csv(real_test_path)"
   ]
  },
  {
   "cell_type": "code",
   "execution_count": 10,
   "metadata": {},
   "outputs": [
    {
     "data": {
      "text/html": [
       "<div>\n",
       "<style scoped>\n",
       "    .dataframe tbody tr th:only-of-type {\n",
       "        vertical-align: middle;\n",
       "    }\n",
       "\n",
       "    .dataframe tbody tr th {\n",
       "        vertical-align: top;\n",
       "    }\n",
       "\n",
       "    .dataframe thead th {\n",
       "        text-align: right;\n",
       "    }\n",
       "</style>\n",
       "<table border=\"1\" class=\"dataframe\">\n",
       "  <thead>\n",
       "    <tr style=\"text-align: right;\">\n",
       "      <th></th>\n",
       "      <th>number</th>\n",
       "      <th>date</th>\n",
       "      <th>Temperature</th>\n",
       "      <th>Humidity</th>\n",
       "      <th>Light</th>\n",
       "      <th>CO2</th>\n",
       "      <th>HumidityRatio</th>\n",
       "      <th>Occupancy</th>\n",
       "    </tr>\n",
       "  </thead>\n",
       "  <tbody>\n",
       "    <tr>\n",
       "      <th>0</th>\n",
       "      <td>1</td>\n",
       "      <td>2015-02-04 17:51:00</td>\n",
       "      <td>23.18</td>\n",
       "      <td>27.2720</td>\n",
       "      <td>426.0</td>\n",
       "      <td>721.250000</td>\n",
       "      <td>0.004793</td>\n",
       "      <td>1</td>\n",
       "    </tr>\n",
       "    <tr>\n",
       "      <th>1</th>\n",
       "      <td>2</td>\n",
       "      <td>2015-02-04 17:51:59</td>\n",
       "      <td>23.15</td>\n",
       "      <td>27.2675</td>\n",
       "      <td>429.5</td>\n",
       "      <td>714.000000</td>\n",
       "      <td>0.004783</td>\n",
       "      <td>1</td>\n",
       "    </tr>\n",
       "    <tr>\n",
       "      <th>2</th>\n",
       "      <td>3</td>\n",
       "      <td>2015-02-04 17:53:00</td>\n",
       "      <td>23.15</td>\n",
       "      <td>27.2450</td>\n",
       "      <td>426.0</td>\n",
       "      <td>713.500000</td>\n",
       "      <td>0.004779</td>\n",
       "      <td>1</td>\n",
       "    </tr>\n",
       "    <tr>\n",
       "      <th>3</th>\n",
       "      <td>4</td>\n",
       "      <td>2015-02-04 17:54:00</td>\n",
       "      <td>23.15</td>\n",
       "      <td>27.2000</td>\n",
       "      <td>426.0</td>\n",
       "      <td>708.250000</td>\n",
       "      <td>0.004772</td>\n",
       "      <td>1</td>\n",
       "    </tr>\n",
       "    <tr>\n",
       "      <th>4</th>\n",
       "      <td>5</td>\n",
       "      <td>2015-02-04 17:55:00</td>\n",
       "      <td>23.10</td>\n",
       "      <td>27.2000</td>\n",
       "      <td>426.0</td>\n",
       "      <td>704.500000</td>\n",
       "      <td>0.004757</td>\n",
       "      <td>1</td>\n",
       "    </tr>\n",
       "    <tr>\n",
       "      <th>...</th>\n",
       "      <td>...</td>\n",
       "      <td>...</td>\n",
       "      <td>...</td>\n",
       "      <td>...</td>\n",
       "      <td>...</td>\n",
       "      <td>...</td>\n",
       "      <td>...</td>\n",
       "      <td>...</td>\n",
       "    </tr>\n",
       "    <tr>\n",
       "      <th>8138</th>\n",
       "      <td>8139</td>\n",
       "      <td>2015-02-10 09:29:00</td>\n",
       "      <td>21.05</td>\n",
       "      <td>36.0975</td>\n",
       "      <td>433.0</td>\n",
       "      <td>787.250000</td>\n",
       "      <td>0.005579</td>\n",
       "      <td>1</td>\n",
       "    </tr>\n",
       "    <tr>\n",
       "      <th>8139</th>\n",
       "      <td>8140</td>\n",
       "      <td>2015-02-10 09:29:59</td>\n",
       "      <td>21.05</td>\n",
       "      <td>35.9950</td>\n",
       "      <td>433.0</td>\n",
       "      <td>789.500000</td>\n",
       "      <td>0.005563</td>\n",
       "      <td>1</td>\n",
       "    </tr>\n",
       "    <tr>\n",
       "      <th>8140</th>\n",
       "      <td>8141</td>\n",
       "      <td>2015-02-10 09:30:59</td>\n",
       "      <td>21.10</td>\n",
       "      <td>36.0950</td>\n",
       "      <td>433.0</td>\n",
       "      <td>798.500000</td>\n",
       "      <td>0.005596</td>\n",
       "      <td>1</td>\n",
       "    </tr>\n",
       "    <tr>\n",
       "      <th>8141</th>\n",
       "      <td>8142</td>\n",
       "      <td>2015-02-10 09:32:00</td>\n",
       "      <td>21.10</td>\n",
       "      <td>36.2600</td>\n",
       "      <td>433.0</td>\n",
       "      <td>820.333333</td>\n",
       "      <td>0.005621</td>\n",
       "      <td>1</td>\n",
       "    </tr>\n",
       "    <tr>\n",
       "      <th>8142</th>\n",
       "      <td>8143</td>\n",
       "      <td>2015-02-10 09:33:00</td>\n",
       "      <td>21.10</td>\n",
       "      <td>36.2000</td>\n",
       "      <td>447.0</td>\n",
       "      <td>821.000000</td>\n",
       "      <td>0.005612</td>\n",
       "      <td>1</td>\n",
       "    </tr>\n",
       "  </tbody>\n",
       "</table>\n",
       "<p>8143 rows × 8 columns</p>\n",
       "</div>"
      ],
      "text/plain": [
       "      number                 date  Temperature  Humidity  Light         CO2   \n",
       "0          1  2015-02-04 17:51:00        23.18   27.2720  426.0  721.250000  \\\n",
       "1          2  2015-02-04 17:51:59        23.15   27.2675  429.5  714.000000   \n",
       "2          3  2015-02-04 17:53:00        23.15   27.2450  426.0  713.500000   \n",
       "3          4  2015-02-04 17:54:00        23.15   27.2000  426.0  708.250000   \n",
       "4          5  2015-02-04 17:55:00        23.10   27.2000  426.0  704.500000   \n",
       "...      ...                  ...          ...       ...    ...         ...   \n",
       "8138    8139  2015-02-10 09:29:00        21.05   36.0975  433.0  787.250000   \n",
       "8139    8140  2015-02-10 09:29:59        21.05   35.9950  433.0  789.500000   \n",
       "8140    8141  2015-02-10 09:30:59        21.10   36.0950  433.0  798.500000   \n",
       "8141    8142  2015-02-10 09:32:00        21.10   36.2600  433.0  820.333333   \n",
       "8142    8143  2015-02-10 09:33:00        21.10   36.2000  447.0  821.000000   \n",
       "\n",
       "      HumidityRatio  Occupancy  \n",
       "0          0.004793          1  \n",
       "1          0.004783          1  \n",
       "2          0.004779          1  \n",
       "3          0.004772          1  \n",
       "4          0.004757          1  \n",
       "...             ...        ...  \n",
       "8138       0.005579          1  \n",
       "8139       0.005563          1  \n",
       "8140       0.005596          1  \n",
       "8141       0.005621          1  \n",
       "8142       0.005612          1  \n",
       "\n",
       "[8143 rows x 8 columns]"
      ]
     },
     "execution_count": 10,
     "metadata": {},
     "output_type": "execute_result"
    }
   ],
   "source": [
    "real_train_df"
   ]
  },
  {
   "cell_type": "code",
   "execution_count": 11,
   "metadata": {},
   "outputs": [
    {
     "name": "stdout",
     "output_type": "stream",
     "text": [
      "real_train_x :  (8143, 3)\n",
      "real_train_y :  (8143,)\n",
      "real_test_x :  (9752, 3)\n",
      "real_test_y :  (9752,)\n"
     ]
    }
   ],
   "source": [
    "real_train_x = real_train_df[['Temperature','Light','CO2']].values\n",
    "real_train_y = real_train_df[['Occupancy']].values.reshape(-1)\n",
    "real_test_x = real_test_df[['Temperature','Light','CO2']].values\n",
    "real_test_y = real_test_df[['Occupancy']].values.reshape(-1)\n",
    "\n",
    "print('real_train_x : ', real_train_x.shape)\n",
    "print('real_train_y : ', real_train_y.shape)\n",
    "print('real_test_x : ', real_test_x.shape)\n",
    "print('real_test_y : ', real_test_y.shape)"
   ]
  },
  {
   "cell_type": "code",
   "execution_count": 12,
   "metadata": {},
   "outputs": [],
   "source": [
    "scaler = MinMaxScaler()\n",
    "\n",
    "normalization_real_train_x = scaler.fit_transform(real_train_x)\n",
    "normalization_real_test_x = scaler.fit_transform(real_test_x)"
   ]
  },
  {
   "cell_type": "markdown",
   "metadata": {},
   "source": [
    "# Perceptron"
   ]
  },
  {
   "cell_type": "code",
   "execution_count": 20,
   "metadata": {},
   "outputs": [],
   "source": [
    "class perceptron:\n",
    "    def __init__(self, feature=3):\n",
    "        self.w = np.full(feature, random.random() * 2 - 1) # -1 ~ 1 random\n",
    "        self.b = 0\n",
    "    \n",
    "    def forward(self, x):\n",
    "        return np.dot(x, self.w) + self.b\n",
    "    \n",
    "    def predict(self, x):\n",
    "        return np.where(self.forward(x) > 0, 1, 0)\n",
    "    \n",
    "    def fit(self, epochs, train=None, learing_rate=0.01):\n",
    "        predicts = []\n",
    "        \n",
    "        for epoch in range(epochs):\n",
    "            # train\n",
    "            for x, y in zip(train[0],train[1]):\n",
    "                update = learing_rate * (y - self.predict(x))\n",
    "                self.w += update * x\n",
    "                self.b += update\n",
    "            \n",
    "            # count\n",
    "            count = 0\n",
    "            for x, y in zip(train[0],train[1]):\n",
    "                if(self.predict(x) != y):\n",
    "                    count += 1\n",
    "            predicts.append(count)\n",
    "        return predicts"
   ]
  },
  {
   "cell_type": "code",
   "execution_count": 21,
   "metadata": {},
   "outputs": [
    {
     "data": {
      "image/png": "[encoded data removed]",
      "text/plain": [
       "<Figure size 640x480 with 1 Axes>"
      ]
     },
     "metadata": {},
     "output_type": "display_data"
    }
   ],
   "source": [
    "synthetic_p = perceptron(feature=3)\n",
    "history = synthetic_p.fit(30, train=(normalization_synthetic_train_x, synthetic_train_y), learing_rate=0.001)\n",
    "plt.plot(history)\n",
    "plt.xlabel('lteration')\n",
    "plt.ylabel('count')\n",
    "plt.show()"
   ]
  },
  {
   "cell_type": "code",
   "execution_count": 22,
   "metadata": {},
   "outputs": [
    {
     "name": "stdout",
     "output_type": "stream",
     "text": [
      "====synthetic 학습X====\n"
     ]
    },
    {
     "name": "stderr",
     "output_type": "stream",
     "text": [
      "100%|██████████| 10/10 [00:00<00:00, 361.34it/s]"
     ]
    },
    {
     "name": "stdout",
     "output_type": "stream",
     "text": [
      "\n",
      "====confusion matrix====\n",
      "[[160  40]\n",
      " [160  40]]\n"
     ]
    },
    {
     "name": "stderr",
     "output_type": "stream",
     "text": [
      "\n"
     ]
    }
   ],
   "source": [
    "print(\"====synthetic 학습X====\")\n",
    "\n",
    "confusion_matrix_10 = []\n",
    "\n",
    "for i in tqdm(range(10)):\n",
    "    synthetic_p = perceptron(feature=3)\n",
    "    \n",
    "    synthetic_y_predict = []\n",
    "    for x in normalization_synthetic_test_x:\n",
    "        synthetic_y_predict.append(int(synthetic_p.predict(x)))\n",
    "    \n",
    "    confusion_matrix_10.append(confusion_matrix(synthetic_test_y, synthetic_y_predict))\n",
    "\n",
    "confusion_matrix_result = confusion_matrix_10[0]\n",
    "for i in range(1,10):\n",
    "    confusion_matrix_result += confusion_matrix_10[i]\n",
    "    \n",
    "confusion_matrix_result = confusion_matrix_result//10\n",
    "print(\"\\n====confusion matrix====\")\n",
    "print(confusion_matrix_result)"
   ]
  },
  {
   "cell_type": "code",
   "execution_count": 16,
   "metadata": {},
   "outputs": [
    {
     "name": "stdout",
     "output_type": "stream",
     "text": [
      "\n",
      "====synthetic 학습O====\n"
     ]
    },
    {
     "name": "stderr",
     "output_type": "stream",
     "text": [
      "100%|██████████| 10/10 [00:04<00:00,  2.34it/s]"
     ]
    },
    {
     "name": "stdout",
     "output_type": "stream",
     "text": [
      "\n",
      "====confusion matrix====\n",
      "[[ 40 159]\n",
      " [  0 200]]\n"
     ]
    },
    {
     "name": "stderr",
     "output_type": "stream",
     "text": [
      "\n"
     ]
    }
   ],
   "source": [
    "print(\"\\n====synthetic 학습O====\")\n",
    "\n",
    "confusion_matrix_10 = []\n",
    "\n",
    "for i in tqdm(range(10)):\n",
    "    synthetic_p = perceptron(feature=3)\n",
    "    synthetic_p.fit(30, train=(normalization_synthetic_train_x, synthetic_train_y), learing_rate=0.001)\n",
    "    \n",
    "    synthetic_y_predict = []\n",
    "    for x in normalization_synthetic_test_x:\n",
    "        synthetic_y_predict.append(int(synthetic_p.predict(x)))\n",
    "    \n",
    "    confusion_matrix_10.append(confusion_matrix(synthetic_test_y, synthetic_y_predict))\n",
    "\n",
    "confusion_matrix_result = confusion_matrix_10[0]\n",
    "for i in range(1,10):\n",
    "    confusion_matrix_result += confusion_matrix_10[i]\n",
    "    \n",
    "confusion_matrix_result = confusion_matrix_result//10\n",
    "print(\"\\n====confusion matrix====\")\n",
    "print(confusion_matrix_result)"
   ]
  },
  {
   "cell_type": "code",
   "execution_count": 25,
   "metadata": {},
   "outputs": [
    {
     "data": {
      "image/png": "[encoded data removed]",
      "text/plain": [
       "<Figure size 640x480 with 1 Axes>"
      ]
     },
     "metadata": {},
     "output_type": "display_data"
    }
   ],
   "source": [
    "real_p = perceptron(feature=3)\n",
    "history = real_p.fit(30, train=(normalization_real_train_x, real_train_y), learing_rate=0.001)\n",
    "plt.plot(history)\n",
    "plt.xlabel('lteration')\n",
    "plt.ylabel('count')\n",
    "plt.show()"
   ]
  },
  {
   "cell_type": "code",
   "execution_count": 18,
   "metadata": {},
   "outputs": [
    {
     "name": "stdout",
     "output_type": "stream",
     "text": [
      "\n",
      "====real 학습X====\n"
     ]
    },
    {
     "name": "stderr",
     "output_type": "stream",
     "text": [
      "100%|██████████| 10/10 [00:00<00:00, 29.46it/s]"
     ]
    },
    {
     "name": "stdout",
     "output_type": "stream",
     "text": [
      "\n",
      "====confusion matrix====\n",
      "[[3081 4621]\n",
      " [ 819 1229]]\n"
     ]
    },
    {
     "name": "stderr",
     "output_type": "stream",
     "text": [
      "\n"
     ]
    }
   ],
   "source": [
    "print(\"\\n====real 학습X====\")\n",
    "\n",
    "confusion_matrix_10 = []\n",
    "\n",
    "for i in tqdm(range(10)):\n",
    "    real_p = perceptron(feature=3)\n",
    "    \n",
    "    real_y_predict = []\n",
    "    for x in normalization_real_test_x:\n",
    "        real_y_predict.append(int(real_p.predict(x)))\n",
    "    \n",
    "    confusion_matrix_10.append(confusion_matrix(real_test_y, real_y_predict))\n",
    "\n",
    "confusion_matrix_result = confusion_matrix_10[0]\n",
    "for i in range(1,10):\n",
    "    confusion_matrix_result += confusion_matrix_10[i]\n",
    "\n",
    "confusion_matrix_result = confusion_matrix_result//10\n",
    "print(\"\\n====confusion matrix====\")\n",
    "print(confusion_matrix_result)"
   ]
  },
  {
   "cell_type": "code",
   "execution_count": 19,
   "metadata": {},
   "outputs": [
    {
     "name": "stdout",
     "output_type": "stream",
     "text": [
      "\n",
      "====real 학습O====\n"
     ]
    },
    {
     "name": "stderr",
     "output_type": "stream",
     "text": [
      "100%|██████████| 10/10 [00:17<00:00,  1.72s/it]"
     ]
    },
    {
     "name": "stdout",
     "output_type": "stream",
     "text": [
      "\n",
      "====confusion matrix====\n",
      "[[1273 6429]\n",
      " [   1 2048]]\n"
     ]
    },
    {
     "name": "stderr",
     "output_type": "stream",
     "text": [
      "\n"
     ]
    }
   ],
   "source": [
    "print(\"\\n====real 학습O====\")\n",
    "\n",
    "confusion_matrix_10 = []\n",
    "\n",
    "for i in tqdm(range(10)):\n",
    "    real_p = perceptron(feature=3)\n",
    "    real_p.fit(30, train=(normalization_real_train_x, real_train_y), learing_rate=0.001)\n",
    "    \n",
    "    real_y_predict = []\n",
    "    for x in normalization_real_test_x:\n",
    "        real_y_predict.append(int(real_p.predict(x)))\n",
    "    \n",
    "    confusion_matrix_10.append(confusion_matrix(real_test_y, real_y_predict))\n",
    "\n",
    "confusion_matrix_result = confusion_matrix_10[0]\n",
    "for i in range(1,10):\n",
    "    confusion_matrix_result += confusion_matrix_10[i]\n",
    "\n",
    "confusion_matrix_result = confusion_matrix_result//10\n",
    "print(\"\\n====confusion matrix====\")\n",
    "print(confusion_matrix_result)"
   ]
  },
  {
   "cell_type": "code",
   "execution_count": null,
   "metadata": {},
   "outputs": [],
   "source": []
  }
 ],
 "metadata": {
  "kernelspec": {
   "display_name": "Python 3",
   "language": "python",
   "name": "python3"
  },
  "language_info": {
   "codemirror_mode": {
    "name": "ipython",
    "version": 3
   },
   "file_extension": ".py",
   "mimetype": "text/x-python",
   "name": "python",
   "nbconvert_exporter": "python",
   "pygments_lexer": "ipython3",
   "version": "3.10.6"
  }
 },
 "nbformat": 4,
 "nbformat_minor": 2
}
