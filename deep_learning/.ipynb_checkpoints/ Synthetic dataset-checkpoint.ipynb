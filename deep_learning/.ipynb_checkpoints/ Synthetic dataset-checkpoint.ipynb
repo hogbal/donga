{
 "cells": [
  {
   "cell_type": "code",
   "execution_count": 2,
   "metadata": {},
   "outputs": [
    {
     "name": "stdout",
     "output_type": "stream",
     "text": [
      "Collecting pandas\n",
      "  Downloading pandas-2.0.0-cp38-cp38-manylinux_2_17_x86_64.manylinux2014_x86_64.whl (12.3 MB)\n",
      "\u001b[K     |████████████████████████████████| 12.3 MB 7.4 MB/s eta 0:00:01    |███▌                            | 1.3 MB 7.4 MB/s eta 0:00:02\n",
      "\u001b[?25hCollecting pytz>=2020.1\n",
      "  Downloading pytz-2023.3-py2.py3-none-any.whl (502 kB)\n",
      "\u001b[K     |████████████████████████████████| 502 kB 13.2 MB/s eta 0:00:01\n",
      "\u001b[?25hRequirement already satisfied: numpy>=1.20.3; python_version < \"3.10\" in /usr/local/lib/python3.8/dist-packages (from pandas) (1.23.4)\n",
      "Collecting tzdata>=2022.1\n",
      "  Downloading tzdata-2023.3-py2.py3-none-any.whl (341 kB)\n",
      "\u001b[K     |████████████████████████████████| 341 kB 13.0 MB/s eta 0:00:01\n",
      "\u001b[?25hRequirement already satisfied: python-dateutil>=2.8.2 in /usr/local/lib/python3.8/dist-packages (from pandas) (2.8.2)\n",
      "Requirement already satisfied: six>=1.5 in /usr/lib/python3/dist-packages (from python-dateutil>=2.8.2->pandas) (1.14.0)\n",
      "Installing collected packages: pytz, tzdata, pandas\n",
      "Successfully installed pandas-2.0.0 pytz-2023.3 tzdata-2023.3\n",
      "\u001b[33mWARNING: You are using pip version 20.2.4; however, version 23.1 is available.\n",
      "You should consider upgrading via the '/usr/bin/python3 -m pip install --upgrade pip' command.\u001b[0m\n"
     ]
    }
   ],
   "source": [
    "!pip3 install pandas"
   ]
  },
  {
   "cell_type": "markdown",
   "metadata": {},
   "source": [
    "# import"
   ]
  },
  {
   "cell_type": "code",
   "execution_count": 42,
   "metadata": {},
   "outputs": [],
   "source": [
    "import random\n",
    "import pandas as pd\n",
    "import numpy as np"
   ]
  },
  {
   "cell_type": "markdown",
   "metadata": {},
   "source": [
    "# create datset"
   ]
  },
  {
   "cell_type": "code",
   "execution_count": 49,
   "metadata": {},
   "outputs": [
    {
     "name": "stdout",
     "output_type": "stream",
     "text": [
      "synthetic_data_train_np :  (10000, 4)\n",
      "synthetic_data_test_np :  (1000, 4)\n"
     ]
    }
   ],
   "source": [
    "synthetic_data_train_np = np.random.rand(10000, 4)\n",
    "synthetic_data_test_np = np.random.rand(1000, 4)\n",
    "\n",
    "for i, _ in enumerate(synthetic_data_train_np):\n",
    "    synthetic_data_train_np[i][3] = random.randrange(2)\n",
    "\n",
    "for i, _ in enumerate(synthetic_data_test_np):\n",
    "    synthetic_data_test_np[i][3] = random.randrange(2)\n",
    "    \n",
    "print(\"synthetic_data_train_np : \", synthetic_data_train_np.shape)\n",
    "print(\"synthetic_data_test_np : \", synthetic_data_test_np.shape)"
   ]
  },
  {
   "cell_type": "code",
   "execution_count": 50,
   "metadata": {},
   "outputs": [
    {
     "data": {
      "text/plain": [
       "array([[0.86110632, 0.47387235, 0.77857471, 1.        ],\n",
       "       [0.15742673, 0.92147331, 0.47501194, 0.        ],\n",
       "       [0.87604649, 0.55033639, 0.96583075, 0.        ],\n",
       "       [0.16516605, 0.04134314, 0.09073377, 1.        ],\n",
       "       [0.21745948, 0.13802643, 0.892639  , 1.        ],\n",
       "       [0.03853996, 0.61477779, 0.25051948, 1.        ],\n",
       "       [0.95122351, 0.55742008, 0.93659261, 0.        ],\n",
       "       [0.48021947, 0.55022466, 0.67366649, 0.        ],\n",
       "       [0.49045325, 0.83326576, 0.01110606, 1.        ],\n",
       "       [0.63880068, 0.71006033, 0.40992213, 0.        ]])"
      ]
     },
     "execution_count": 50,
     "metadata": {},
     "output_type": "execute_result"
    }
   ],
   "source": [
    "synthetic_data_train_np[:10]"
   ]
  },
  {
   "cell_type": "code",
   "execution_count": 58,
   "metadata": {},
   "outputs": [],
   "source": [
    "train_df = pd.DataFrame(synthetic_data_train_np, columns = ['x', 'y', 'z','class'])\n",
    "test_df = pd.DataFrame(synthetic_data_test_np, columns = ['x', 'y', 'z','class'])\n",
    "\n",
    "train_df = train_df.astype({'class':'int'})\n",
    "test_df = test_df.astype({'class':'int'})"
   ]
  },
  {
   "cell_type": "code",
   "execution_count": 61,
   "metadata": {},
   "outputs": [
    {
     "data": {
      "text/html": [
       "<div>\n",
       "<style scoped>\n",
       "    .dataframe tbody tr th:only-of-type {\n",
       "        vertical-align: middle;\n",
       "    }\n",
       "\n",
       "    .dataframe tbody tr th {\n",
       "        vertical-align: top;\n",
       "    }\n",
       "\n",
       "    .dataframe thead th {\n",
       "        text-align: right;\n",
       "    }\n",
       "</style>\n",
       "<table border=\"1\" class=\"dataframe\">\n",
       "  <thead>\n",
       "    <tr style=\"text-align: right;\">\n",
       "      <th></th>\n",
       "      <th>x</th>\n",
       "      <th>y</th>\n",
       "      <th>z</th>\n",
       "      <th>class</th>\n",
       "    </tr>\n",
       "  </thead>\n",
       "  <tbody>\n",
       "    <tr>\n",
       "      <th>0</th>\n",
       "      <td>0.861106</td>\n",
       "      <td>0.473872</td>\n",
       "      <td>0.778575</td>\n",
       "      <td>1</td>\n",
       "    </tr>\n",
       "    <tr>\n",
       "      <th>1</th>\n",
       "      <td>0.157427</td>\n",
       "      <td>0.921473</td>\n",
       "      <td>0.475012</td>\n",
       "      <td>0</td>\n",
       "    </tr>\n",
       "    <tr>\n",
       "      <th>2</th>\n",
       "      <td>0.876046</td>\n",
       "      <td>0.550336</td>\n",
       "      <td>0.965831</td>\n",
       "      <td>0</td>\n",
       "    </tr>\n",
       "    <tr>\n",
       "      <th>3</th>\n",
       "      <td>0.165166</td>\n",
       "      <td>0.041343</td>\n",
       "      <td>0.090734</td>\n",
       "      <td>1</td>\n",
       "    </tr>\n",
       "    <tr>\n",
       "      <th>4</th>\n",
       "      <td>0.217459</td>\n",
       "      <td>0.138026</td>\n",
       "      <td>0.892639</td>\n",
       "      <td>1</td>\n",
       "    </tr>\n",
       "    <tr>\n",
       "      <th>...</th>\n",
       "      <td>...</td>\n",
       "      <td>...</td>\n",
       "      <td>...</td>\n",
       "      <td>...</td>\n",
       "    </tr>\n",
       "    <tr>\n",
       "      <th>9995</th>\n",
       "      <td>0.300829</td>\n",
       "      <td>0.656486</td>\n",
       "      <td>0.476066</td>\n",
       "      <td>0</td>\n",
       "    </tr>\n",
       "    <tr>\n",
       "      <th>9996</th>\n",
       "      <td>0.250660</td>\n",
       "      <td>0.353941</td>\n",
       "      <td>0.571227</td>\n",
       "      <td>1</td>\n",
       "    </tr>\n",
       "    <tr>\n",
       "      <th>9997</th>\n",
       "      <td>0.170470</td>\n",
       "      <td>0.637514</td>\n",
       "      <td>0.518510</td>\n",
       "      <td>0</td>\n",
       "    </tr>\n",
       "    <tr>\n",
       "      <th>9998</th>\n",
       "      <td>0.166176</td>\n",
       "      <td>0.955854</td>\n",
       "      <td>0.923899</td>\n",
       "      <td>1</td>\n",
       "    </tr>\n",
       "    <tr>\n",
       "      <th>9999</th>\n",
       "      <td>0.314155</td>\n",
       "      <td>0.984580</td>\n",
       "      <td>0.514088</td>\n",
       "      <td>0</td>\n",
       "    </tr>\n",
       "  </tbody>\n",
       "</table>\n",
       "<p>10000 rows × 4 columns</p>\n",
       "</div>"
      ],
      "text/plain": [
       "             x         y         z  class\n",
       "0     0.861106  0.473872  0.778575      1\n",
       "1     0.157427  0.921473  0.475012      0\n",
       "2     0.876046  0.550336  0.965831      0\n",
       "3     0.165166  0.041343  0.090734      1\n",
       "4     0.217459  0.138026  0.892639      1\n",
       "...        ...       ...       ...    ...\n",
       "9995  0.300829  0.656486  0.476066      0\n",
       "9996  0.250660  0.353941  0.571227      1\n",
       "9997  0.170470  0.637514  0.518510      0\n",
       "9998  0.166176  0.955854  0.923899      1\n",
       "9999  0.314155  0.984580  0.514088      0\n",
       "\n",
       "[10000 rows x 4 columns]"
      ]
     },
     "execution_count": 61,
     "metadata": {},
     "output_type": "execute_result"
    }
   ],
   "source": [
    "train_df"
   ]
  },
  {
   "cell_type": "code",
   "execution_count": null,
   "metadata": {},
   "outputs": [],
   "source": []
  }
 ],
 "metadata": {
  "kernelspec": {
   "display_name": "Python 3",
   "language": "python",
   "name": "python3"
  },
  "language_info": {
   "codemirror_mode": {
    "name": "ipython",
    "version": 3
   },
   "file_extension": ".py",
   "mimetype": "text/x-python",
   "name": "python",
   "nbconvert_exporter": "python",
   "pygments_lexer": "ipython3",
   "version": "3.8.10"
  }
 },
 "nbformat": 4,
 "nbformat_minor": 2
}
